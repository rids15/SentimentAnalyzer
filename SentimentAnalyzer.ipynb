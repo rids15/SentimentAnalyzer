{
  "nbformat": 4,
  "nbformat_minor": 0,
  "metadata": {
    "colab": {
      "name": "SentimentAnalyzer.ipynb",
      "version": "0.3.2",
      "provenance": [],
      "include_colab_link": true
    },
    "kernelspec": {
      "name": "python3",
      "display_name": "Python 3"
    }
  },
  "cells": [
    {
      "cell_type": "markdown",
      "metadata": {
        "id": "view-in-github",
        "colab_type": "text"
      },
      "source": [
        "<a href=\"https://colab.research.google.com/github/rids15/SentimentAnalyzer/blob/master/SentimentAnalyzer.ipynb\" target=\"_parent\"><img src=\"https://colab.research.google.com/assets/colab-badge.svg\" alt=\"Open In Colab\"/></a>"
      ]
    },
    {
      "metadata": {
        "id": "PluuhKfttSem",
        "colab_type": "code",
        "colab": {
          "base_uri": "https://localhost:8080/",
          "height": 318
        },
        "outputId": "c40da57b-8e98-4892-e9c6-1dfd46ca7376"
      },
      "cell_type": "code",
      "source": [
        "! pip install pandas\n",
        "! pip install tweepy\n",
        "! pip install vaderSentiment\n",
        "\n"
      ],
      "execution_count": 30,
      "outputs": [
        {
          "output_type": "stream",
          "text": [
            "Requirement already satisfied: pandas in /usr/local/lib/python3.6/dist-packages (0.23.4)\n",
            "Requirement already satisfied: python-dateutil>=2.5.0 in /usr/local/lib/python3.6/dist-packages (from pandas) (2.5.3)\n",
            "Requirement already satisfied: numpy>=1.9.0 in /usr/local/lib/python3.6/dist-packages (from pandas) (1.16.2)\n",
            "Requirement already satisfied: pytz>=2011k in /usr/local/lib/python3.6/dist-packages (from pandas) (2018.9)\n",
            "Requirement already satisfied: six>=1.5 in /usr/local/lib/python3.6/dist-packages (from python-dateutil>=2.5.0->pandas) (1.11.0)\n",
            "Requirement already satisfied: tweepy in /usr/local/lib/python3.6/dist-packages (3.6.0)\n",
            "Requirement already satisfied: requests>=2.11.1 in /usr/local/lib/python3.6/dist-packages (from tweepy) (2.18.4)\n",
            "Requirement already satisfied: requests-oauthlib>=0.7.0 in /usr/local/lib/python3.6/dist-packages (from tweepy) (1.2.0)\n",
            "Requirement already satisfied: six>=1.10.0 in /usr/local/lib/python3.6/dist-packages (from tweepy) (1.11.0)\n",
            "Requirement already satisfied: PySocks>=1.5.7 in /usr/local/lib/python3.6/dist-packages (from tweepy) (1.6.8)\n",
            "Requirement already satisfied: certifi>=2017.4.17 in /usr/local/lib/python3.6/dist-packages (from requests>=2.11.1->tweepy) (2019.3.9)\n",
            "Requirement already satisfied: idna<2.7,>=2.5 in /usr/local/lib/python3.6/dist-packages (from requests>=2.11.1->tweepy) (2.6)\n",
            "Requirement already satisfied: urllib3<1.23,>=1.21.1 in /usr/local/lib/python3.6/dist-packages (from requests>=2.11.1->tweepy) (1.22)\n",
            "Requirement already satisfied: chardet<3.1.0,>=3.0.2 in /usr/local/lib/python3.6/dist-packages (from requests>=2.11.1->tweepy) (3.0.4)\n",
            "Requirement already satisfied: oauthlib>=3.0.0 in /usr/local/lib/python3.6/dist-packages (from requests-oauthlib>=0.7.0->tweepy) (3.0.1)\n",
            "Requirement already satisfied: vaderSentiment in /usr/local/lib/python3.6/dist-packages (3.2.1)\n"
          ],
          "name": "stdout"
        }
      ]
    },
    {
      "metadata": {
        "id": "MwmxZLkD91FI",
        "colab_type": "code",
        "colab": {
          "base_uri": "https://localhost:8080/",
          "height": 111
        },
        "outputId": "70bb0644-e4b6-4df2-e6e5-643a436b2b1c"
      },
      "cell_type": "code",
      "source": [
        "import pandas as pd\n",
        "import tweepy\n",
        "from nltk.sentiment.vader import SentimentIntensityAnalyzer"
      ],
      "execution_count": 31,
      "outputs": [
        {
          "output_type": "stream",
          "text": [
            "/usr/local/lib/python3.6/dist-packages/nltk/twitter/__init__.py:20: UserWarning: The twython library has not been installed. Some functionality from the twitter package will not be available.\n",
            "  warnings.warn(\"The twython library has not been installed. \"\n"
          ],
          "name": "stderr"
        }
      ]
    },
    {
      "metadata": {
        "id": "JYayyhDFxkWc",
        "colab_type": "code",
        "colab": {}
      },
      "cell_type": "code",
      "source": [
        "API_KEY = 'UzkNXb1l77ErH7xh01HN7EGlA'\n",
        "API_SECRET = '5PeGiMOiAYUL5LpyEOSkv8gcDSfFcq5Ghpysy43bitHmY1BfFg'\n",
        "\n",
        "ACCESS_KEY= '2270562236-wXY5wJl0HfSv8NVYUEhAbAPqWXfsoh4x3ykrSDk'\n",
        "ACCESS_TOKEN = 'VaDYmryfcmtku8NTDlEfMcaUsS5u3JzuBfYavvvKvA79H'"
      ],
      "execution_count": 0,
      "outputs": []
    },
    {
      "metadata": {
        "id": "sMKglCPSyNyY",
        "colab_type": "code",
        "colab": {
          "base_uri": "https://localhost:8080/",
          "height": 376
        },
        "outputId": "e7feed4d-d130-4c0a-caaf-ec122d2be90f"
      },
      "cell_type": "code",
      "source": [
        "auth = tweepy.OAuthHandler(API_KEY, API_SECRET)\n",
        "auth.set_access_token(ACCESS_KEY, ACCESS_TOKEN)\n",
        "\n",
        "api = tweepy.API(auth, wait_on_rate_limit=True)\n",
        "search_words=\"#Congress\"\n",
        "new_search = search_words + \" -filter:retweets\"\n",
        "tweets = api.search(new_search, count=1000)\n",
        "\n",
        "data = pd.DataFrame(data=[tweet.text for tweet in tweets], columns=['Tweets'])\n",
        "display(data.head(10))\n",
        "print(tweets[0].created_at)"
      ],
      "execution_count": 57,
      "outputs": [
        {
          "output_type": "display_data",
          "data": {
            "text/html": [
              "<div>\n",
              "<style scoped>\n",
              "    .dataframe tbody tr th:only-of-type {\n",
              "        vertical-align: middle;\n",
              "    }\n",
              "\n",
              "    .dataframe tbody tr th {\n",
              "        vertical-align: top;\n",
              "    }\n",
              "\n",
              "    .dataframe thead th {\n",
              "        text-align: right;\n",
              "    }\n",
              "</style>\n",
              "<table border=\"1\" class=\"dataframe\">\n",
              "  <thead>\n",
              "    <tr style=\"text-align: right;\">\n",
              "      <th></th>\n",
              "      <th>Tweets</th>\n",
              "    </tr>\n",
              "  </thead>\n",
              "  <tbody>\n",
              "    <tr>\n",
              "      <th>0</th>\n",
              "      <td>@saumyatandon Mam ap kisko vote karenge Loksab...</td>\n",
              "    </tr>\n",
              "    <tr>\n",
              "      <th>1</th>\n",
              "      <td>जलियावाला बाग़ नरसंहार की 100 बरसी आज...\\n\\n#J...</td>\n",
              "    </tr>\n",
              "    <tr>\n",
              "      <th>2</th>\n",
              "      <td>@hkfinan @natasharothwell @bessbell @realDonal...</td>\n",
              "    </tr>\n",
              "    <tr>\n",
              "      <th>3</th>\n",
              "      <td>#LokSabhaelection2019, #congress ഈസ്​റ്റ്​ ഡൽഹ...</td>\n",
              "    </tr>\n",
              "    <tr>\n",
              "      <th>4</th>\n",
              "      <td>DO NOT EVER call a Muslim woman \"sharm(00)ta\",...</td>\n",
              "    </tr>\n",
              "    <tr>\n",
              "      <th>5</th>\n",
              "      <td>#Congress - #DMK is using the Digital Space so...</td>\n",
              "    </tr>\n",
              "    <tr>\n",
              "      <th>6</th>\n",
              "      <td>#MyVoteForMNM\\n\\nCongress Raul Vinci aka Rahul...</td>\n",
              "    </tr>\n",
              "    <tr>\n",
              "      <th>7</th>\n",
              "      <td>ಕೈ ಕೈ ಮಿಲಾಯಿಸಿದ ಬಿಜೆಪಿ-ಕಾಂಗ್ರೆಸ್ ಕಾರ್ಯಕರ್ತರು.....</td>\n",
              "    </tr>\n",
              "    <tr>\n",
              "      <th>8</th>\n",
              "      <td>विद्यार्थ्यांचा सन्मान होणार\\nबारावी पर्यंत मो...</td>\n",
              "    </tr>\n",
              "    <tr>\n",
              "      <th>9</th>\n",
              "      <td>#RamNavami\\n\\nLord Ram, Seeta &amp;amp; Lakshman i...</td>\n",
              "    </tr>\n",
              "  </tbody>\n",
              "</table>\n",
              "</div>"
            ],
            "text/plain": [
              "                                              Tweets\n",
              "0  @saumyatandon Mam ap kisko vote karenge Loksab...\n",
              "1  जलियावाला बाग़ नरसंहार की 100 बरसी आज...\\n\\n#J...\n",
              "2  @hkfinan @natasharothwell @bessbell @realDonal...\n",
              "3  #LokSabhaelection2019, #congress ഈസ്​റ്റ്​ ഡൽഹ...\n",
              "4  DO NOT EVER call a Muslim woman \"sharm(00)ta\",...\n",
              "5  #Congress - #DMK is using the Digital Space so...\n",
              "6  #MyVoteForMNM\\n\\nCongress Raul Vinci aka Rahul...\n",
              "7  ಕೈ ಕೈ ಮಿಲಾಯಿಸಿದ ಬಿಜೆಪಿ-ಕಾಂಗ್ರೆಸ್ ಕಾರ್ಯಕರ್ತರು.....\n",
              "8  विद्यार्थ्यांचा सन्मान होणार\\nबारावी पर्यंत मो...\n",
              "9  #RamNavami\\n\\nLord Ram, Seeta &amp; Lakshman i..."
            ]
          },
          "metadata": {
            "tags": []
          }
        },
        {
          "output_type": "stream",
          "text": [
            "2019-04-13 04:55:08\n"
          ],
          "name": "stdout"
        }
      ]
    },
    {
      "metadata": {
        "id": "X6pS2dYk_dq2",
        "colab_type": "code",
        "colab": {
          "base_uri": "https://localhost:8080/",
          "height": 68
        },
        "outputId": "e0fd857d-4af7-4e73-9e35-7536de8f49ea"
      },
      "cell_type": "code",
      "source": [
        "import nltk\n",
        "nltk.download('vader_lexicon')\n",
        "\n",
        "sid = SentimentIntensityAnalyzer()\n",
        "\n",
        "op = []\n",
        "pos = []\n",
        "neg = []\n",
        "neu = []\n",
        "compound = []\n",
        "\n",
        "for index,row in data.iterrows():\n",
        "  ss = sid.polarity_scores(row['Tweets'])\n",
        "  pos.append(ss['pos'])\n",
        "  neg.append(ss['neg'])\n",
        "  neu.append(ss['neu'])\n",
        "  compound.append(ss['compound'])\n",
        "  op.append(ss)\n",
        "  \n",
        "se = pd.Series(op)\n",
        "sp = pd.Series(pos)\n",
        "sneu = pd.Series(neu)\n",
        "sneg = pd.Series(neg)\n",
        "scmp = pd.Series(compound)\n",
        "data['polarity']=se.values\n",
        "data['positive']=sp.values\n",
        "data['neutral']=sneu.values\n",
        "data['negative']=sneg.values\n",
        "data['compound']=scmp.values\n",
        "\n",
        "\n",
        "print(search_words, 'Pos', sum(pos), 'neutral', sum(neu), 'neg' , sum(neg), 'compound' , sum(compound));\n",
        "\n",
        "# display(data.head(1000))\n",
        "\n"
      ],
      "execution_count": 58,
      "outputs": [
        {
          "output_type": "stream",
          "text": [
            "[nltk_data] Downloading package vader_lexicon to /root/nltk_data...\n",
            "[nltk_data]   Package vader_lexicon is already up-to-date!\n",
            "#Congress Pos 4.122999999999999 neutral 92.72999999999998 neg 3.1470000000000002 compound 1.9243999999999999\n"
          ],
          "name": "stdout"
        }
      ]
    },
    {
      "metadata": {
        "id": "EImj-vP9zYXE",
        "colab_type": "code",
        "colab": {
          "base_uri": "https://localhost:8080/",
          "height": 74
        },
        "outputId": "e4a073e6-ea61-429a-c1a6-61747d1052cd"
      },
      "cell_type": "code",
      "source": [
        "# api.update_status('Yeah!...check out this')"
      ],
      "execution_count": 7,
      "outputs": [
        {
          "output_type": "execute_result",
          "data": {
            "text/plain": [
              "Status(_api=<tweepy.api.API object at 0x7fa9ce7cbd30>, _json={'created_at': 'Sat Apr 13 03:50:39 +0000 2019', 'id': 1116911549619138560, 'id_str': '1116911549619138560', 'text': 'Yeah!...I am sening tweet from python', 'truncated': False, 'entities': {'hashtags': [], 'symbols': [], 'user_mentions': [], 'urls': []}, 'source': '<a href=\"https://www.lolzor.com\" rel=\"nofollow\">sentiment_funanalyze</a>', 'in_reply_to_status_id': None, 'in_reply_to_status_id_str': None, 'in_reply_to_user_id': None, 'in_reply_to_user_id_str': None, 'in_reply_to_screen_name': None, 'user': {'id': 2270562236, 'id_str': '2270562236', 'name': 'riddhi patel', 'screen_name': 'riddhi_patel20', 'location': 'Hyderabad, India', 'description': '@iiit_hyderabad', 'url': None, 'entities': {'description': {'urls': []}}, 'protected': False, 'followers_count': 13, 'friends_count': 376, 'listed_count': 0, 'created_at': 'Tue Dec 31 16:24:35 +0000 2013', 'favourites_count': 14, 'utc_offset': None, 'time_zone': None, 'geo_enabled': False, 'verified': False, 'statuses_count': 1, 'lang': 'en', 'contributors_enabled': False, 'is_translator': False, 'is_translation_enabled': False, 'profile_background_color': 'C0DEED', 'profile_background_image_url': 'http://abs.twimg.com/images/themes/theme1/bg.png', 'profile_background_image_url_https': 'https://abs.twimg.com/images/themes/theme1/bg.png', 'profile_background_tile': False, 'profile_image_url': 'http://pbs.twimg.com/profile_images/832479766708056067/BLiC_-Ub_normal.jpg', 'profile_image_url_https': 'https://pbs.twimg.com/profile_images/832479766708056067/BLiC_-Ub_normal.jpg', 'profile_link_color': '1DA1F2', 'profile_sidebar_border_color': 'C0DEED', 'profile_sidebar_fill_color': 'DDEEF6', 'profile_text_color': '333333', 'profile_use_background_image': True, 'has_extended_profile': False, 'default_profile': True, 'default_profile_image': False, 'following': False, 'follow_request_sent': False, 'notifications': False, 'translator_type': 'none'}, 'geo': None, 'coordinates': None, 'place': None, 'contributors': None, 'is_quote_status': False, 'retweet_count': 0, 'favorite_count': 0, 'favorited': False, 'retweeted': False, 'lang': 'en'}, created_at=datetime.datetime(2019, 4, 13, 3, 50, 39), id=1116911549619138560, id_str='1116911549619138560', text='Yeah!...I am sening tweet from python', truncated=False, entities={'hashtags': [], 'symbols': [], 'user_mentions': [], 'urls': []}, source='sentiment_funanalyze', source_url='https://www.lolzor.com', in_reply_to_status_id=None, in_reply_to_status_id_str=None, in_reply_to_user_id=None, in_reply_to_user_id_str=None, in_reply_to_screen_name=None, author=User(_api=<tweepy.api.API object at 0x7fa9ce7cbd30>, _json={'id': 2270562236, 'id_str': '2270562236', 'name': 'riddhi patel', 'screen_name': 'riddhi_patel20', 'location': 'Hyderabad, India', 'description': '@iiit_hyderabad', 'url': None, 'entities': {'description': {'urls': []}}, 'protected': False, 'followers_count': 13, 'friends_count': 376, 'listed_count': 0, 'created_at': 'Tue Dec 31 16:24:35 +0000 2013', 'favourites_count': 14, 'utc_offset': None, 'time_zone': None, 'geo_enabled': False, 'verified': False, 'statuses_count': 1, 'lang': 'en', 'contributors_enabled': False, 'is_translator': False, 'is_translation_enabled': False, 'profile_background_color': 'C0DEED', 'profile_background_image_url': 'http://abs.twimg.com/images/themes/theme1/bg.png', 'profile_background_image_url_https': 'https://abs.twimg.com/images/themes/theme1/bg.png', 'profile_background_tile': False, 'profile_image_url': 'http://pbs.twimg.com/profile_images/832479766708056067/BLiC_-Ub_normal.jpg', 'profile_image_url_https': 'https://pbs.twimg.com/profile_images/832479766708056067/BLiC_-Ub_normal.jpg', 'profile_link_color': '1DA1F2', 'profile_sidebar_border_color': 'C0DEED', 'profile_sidebar_fill_color': 'DDEEF6', 'profile_text_color': '333333', 'profile_use_background_image': True, 'has_extended_profile': False, 'default_profile': True, 'default_profile_image': False, 'following': False, 'follow_request_sent': False, 'notifications': False, 'translator_type': 'none'}, id=2270562236, id_str='2270562236', name='riddhi patel', screen_name='riddhi_patel20', location='Hyderabad, India', description='@iiit_hyderabad', url=None, entities={'description': {'urls': []}}, protected=False, followers_count=13, friends_count=376, listed_count=0, created_at=datetime.datetime(2013, 12, 31, 16, 24, 35), favourites_count=14, utc_offset=None, time_zone=None, geo_enabled=False, verified=False, statuses_count=1, lang='en', contributors_enabled=False, is_translator=False, is_translation_enabled=False, profile_background_color='C0DEED', profile_background_image_url='http://abs.twimg.com/images/themes/theme1/bg.png', profile_background_image_url_https='https://abs.twimg.com/images/themes/theme1/bg.png', profile_background_tile=False, profile_image_url='http://pbs.twimg.com/profile_images/832479766708056067/BLiC_-Ub_normal.jpg', profile_image_url_https='https://pbs.twimg.com/profile_images/832479766708056067/BLiC_-Ub_normal.jpg', profile_link_color='1DA1F2', profile_sidebar_border_color='C0DEED', profile_sidebar_fill_color='DDEEF6', profile_text_color='333333', profile_use_background_image=True, has_extended_profile=False, default_profile=True, default_profile_image=False, following=False, follow_request_sent=False, notifications=False, translator_type='none'), user=User(_api=<tweepy.api.API object at 0x7fa9ce7cbd30>, _json={'id': 2270562236, 'id_str': '2270562236', 'name': 'riddhi patel', 'screen_name': 'riddhi_patel20', 'location': 'Hyderabad, India', 'description': '@iiit_hyderabad', 'url': None, 'entities': {'description': {'urls': []}}, 'protected': False, 'followers_count': 13, 'friends_count': 376, 'listed_count': 0, 'created_at': 'Tue Dec 31 16:24:35 +0000 2013', 'favourites_count': 14, 'utc_offset': None, 'time_zone': None, 'geo_enabled': False, 'verified': False, 'statuses_count': 1, 'lang': 'en', 'contributors_enabled': False, 'is_translator': False, 'is_translation_enabled': False, 'profile_background_color': 'C0DEED', 'profile_background_image_url': 'http://abs.twimg.com/images/themes/theme1/bg.png', 'profile_background_image_url_https': 'https://abs.twimg.com/images/themes/theme1/bg.png', 'profile_background_tile': False, 'profile_image_url': 'http://pbs.twimg.com/profile_images/832479766708056067/BLiC_-Ub_normal.jpg', 'profile_image_url_https': 'https://pbs.twimg.com/profile_images/832479766708056067/BLiC_-Ub_normal.jpg', 'profile_link_color': '1DA1F2', 'profile_sidebar_border_color': 'C0DEED', 'profile_sidebar_fill_color': 'DDEEF6', 'profile_text_color': '333333', 'profile_use_background_image': True, 'has_extended_profile': False, 'default_profile': True, 'default_profile_image': False, 'following': False, 'follow_request_sent': False, 'notifications': False, 'translator_type': 'none'}, id=2270562236, id_str='2270562236', name='riddhi patel', screen_name='riddhi_patel20', location='Hyderabad, India', description='@iiit_hyderabad', url=None, entities={'description': {'urls': []}}, protected=False, followers_count=13, friends_count=376, listed_count=0, created_at=datetime.datetime(2013, 12, 31, 16, 24, 35), favourites_count=14, utc_offset=None, time_zone=None, geo_enabled=False, verified=False, statuses_count=1, lang='en', contributors_enabled=False, is_translator=False, is_translation_enabled=False, profile_background_color='C0DEED', profile_background_image_url='http://abs.twimg.com/images/themes/theme1/bg.png', profile_background_image_url_https='https://abs.twimg.com/images/themes/theme1/bg.png', profile_background_tile=False, profile_image_url='http://pbs.twimg.com/profile_images/832479766708056067/BLiC_-Ub_normal.jpg', profile_image_url_https='https://pbs.twimg.com/profile_images/832479766708056067/BLiC_-Ub_normal.jpg', profile_link_color='1DA1F2', profile_sidebar_border_color='C0DEED', profile_sidebar_fill_color='DDEEF6', profile_text_color='333333', profile_use_background_image=True, has_extended_profile=False, default_profile=True, default_profile_image=False, following=False, follow_request_sent=False, notifications=False, translator_type='none'), geo=None, coordinates=None, place=None, contributors=None, is_quote_status=False, retweet_count=0, favorite_count=0, favorited=False, retweeted=False, lang='en')"
            ]
          },
          "metadata": {
            "tags": []
          },
          "execution_count": 7
        }
      ]
    }
  ]
}