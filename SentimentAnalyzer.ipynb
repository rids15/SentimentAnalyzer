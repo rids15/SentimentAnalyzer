{
  "nbformat": 4,
  "nbformat_minor": 0,
  "metadata": {
    "colab": {
      "name": "SentimentAnalyzer.ipynb",
      "version": "0.3.2",
      "provenance": [],
      "include_colab_link": true
    },
    "kernelspec": {
      "name": "python3",
      "display_name": "Python 3"
    }
  },
  "cells": [
    {
      "cell_type": "markdown",
      "metadata": {
        "id": "view-in-github",
        "colab_type": "text"
      },
      "source": [
        "<a href=\"https://colab.research.google.com/github/rids15/SentimentAnalyzer/blob/master/SentimentAnalyzer.ipynb\" target=\"_parent\"><img src=\"https://colab.research.google.com/assets/colab-badge.svg\" alt=\"Open In Colab\"/></a>"
      ]
    },
    {
      "metadata": {
        "id": "PluuhKfttSem",
        "colab_type": "code",
        "outputId": "a05850d6-c5c7-469e-8b49-22000326f504",
        "colab": {
          "base_uri": "https://localhost:8080/",
          "height": 386
        }
      },
      "cell_type": "code",
      "source": [
        "! pip install pandas\n",
        "! pip install tweepy\n",
        "! pip install vaderSentiment\n",
        "\n"
      ],
      "execution_count": 2,
      "outputs": [
        {
          "output_type": "stream",
          "text": [
            "Requirement already satisfied: pandas in /usr/local/lib/python3.6/dist-packages (0.23.4)\n",
            "Requirement already satisfied: python-dateutil>=2.5.0 in /usr/local/lib/python3.6/dist-packages (from pandas) (2.5.3)\n",
            "Requirement already satisfied: numpy>=1.9.0 in /usr/local/lib/python3.6/dist-packages (from pandas) (1.16.2)\n",
            "Requirement already satisfied: pytz>=2011k in /usr/local/lib/python3.6/dist-packages (from pandas) (2018.9)\n",
            "Requirement already satisfied: six>=1.5 in /usr/local/lib/python3.6/dist-packages (from python-dateutil>=2.5.0->pandas) (1.11.0)\n",
            "Requirement already satisfied: tweepy in /usr/local/lib/python3.6/dist-packages (3.6.0)\n",
            "Requirement already satisfied: six>=1.10.0 in /usr/local/lib/python3.6/dist-packages (from tweepy) (1.11.0)\n",
            "Requirement already satisfied: requests>=2.11.1 in /usr/local/lib/python3.6/dist-packages (from tweepy) (2.18.4)\n",
            "Requirement already satisfied: requests-oauthlib>=0.7.0 in /usr/local/lib/python3.6/dist-packages (from tweepy) (1.2.0)\n",
            "Requirement already satisfied: PySocks>=1.5.7 in /usr/local/lib/python3.6/dist-packages (from tweepy) (1.6.8)\n",
            "Requirement already satisfied: chardet<3.1.0,>=3.0.2 in /usr/local/lib/python3.6/dist-packages (from requests>=2.11.1->tweepy) (3.0.4)\n",
            "Requirement already satisfied: urllib3<1.23,>=1.21.1 in /usr/local/lib/python3.6/dist-packages (from requests>=2.11.1->tweepy) (1.22)\n",
            "Requirement already satisfied: certifi>=2017.4.17 in /usr/local/lib/python3.6/dist-packages (from requests>=2.11.1->tweepy) (2019.3.9)\n",
            "Requirement already satisfied: idna<2.7,>=2.5 in /usr/local/lib/python3.6/dist-packages (from requests>=2.11.1->tweepy) (2.6)\n",
            "Requirement already satisfied: oauthlib>=3.0.0 in /usr/local/lib/python3.6/dist-packages (from requests-oauthlib>=0.7.0->tweepy) (3.0.1)\n",
            "Collecting vaderSentiment\n",
            "\u001b[?25l  Downloading https://files.pythonhosted.org/packages/86/9e/c53e1fc61aac5ee490a6ac5e21b1ac04e55a7c2aba647bb8411c9aadf24e/vaderSentiment-3.2.1-py2.py3-none-any.whl (125kB)\n",
            "\u001b[K    100% |████████████████████████████████| 133kB 6.2MB/s \n",
            "\u001b[?25hInstalling collected packages: vaderSentiment\n",
            "Successfully installed vaderSentiment-3.2.1\n"
          ],
          "name": "stdout"
        }
      ]
    },
    {
      "metadata": {
        "id": "MwmxZLkD91FI",
        "colab_type": "code",
        "outputId": "29e05c94-3e42-4c66-8dbf-decb0e8c028d",
        "colab": {
          "base_uri": "https://localhost:8080/",
          "height": 111
        }
      },
      "cell_type": "code",
      "source": [
        "import pandas as pd\n",
        "import tweepy\n",
        "from nltk.sentiment.vader import SentimentIntensityAnalyzer"
      ],
      "execution_count": 3,
      "outputs": [
        {
          "output_type": "stream",
          "text": [
            "/usr/local/lib/python3.6/dist-packages/nltk/twitter/__init__.py:20: UserWarning: The twython library has not been installed. Some functionality from the twitter package will not be available.\n",
            "  warnings.warn(\"The twython library has not been installed. \"\n"
          ],
          "name": "stderr"
        }
      ]
    },
    {
      "metadata": {
        "id": "JYayyhDFxkWc",
        "colab_type": "code",
        "colab": {}
      },
      "cell_type": "code",
      "source": [
        "API_KEY = 'UzkNXb1l77ErH7xh01HN7EGlA'\n",
        "API_SECRET = '5PeGiMOiAYUL5LpyEOSkv8gcDSfFcq5Ghpysy43bitHmY1BfFg'\n",
        "\n",
        "ACCESS_KEY= '2270562236-wXY5wJl0HfSv8NVYUEhAbAPqWXfsoh4x3ykrSDk'\n",
        "ACCESS_TOKEN = 'VaDYmryfcmtku8NTDlEfMcaUsS5u3JzuBfYavvvKvA79H'"
      ],
      "execution_count": 0,
      "outputs": []
    },
    {
      "metadata": {
        "id": "sMKglCPSyNyY",
        "colab_type": "code",
        "outputId": "cb208fff-425f-49fc-b709-41cf01ef8a9d",
        "colab": {
          "base_uri": "https://localhost:8080/",
          "height": 376
        }
      },
      "cell_type": "code",
      "source": [
        "auth = tweepy.OAuthHandler(API_KEY, API_SECRET)\n",
        "auth.set_access_token(ACCESS_KEY, ACCESS_TOKEN)\n",
        "\n",
        "api = tweepy.API(auth, wait_on_rate_limit=True)\n",
        "search_words=\"#Kohli\"\n",
        "new_search = search_words + \" -filter:retweets\"\n",
        "tweets = api.search(new_search, count=1000)\n",
        "\n",
        "data = pd.DataFrame(data=[tweet.text for tweet in tweets], columns=['Tweets'])\n",
        "display(data.head(10))\n",
        "print(tweets[0].created_at)"
      ],
      "execution_count": 14,
      "outputs": [
        {
          "output_type": "display_data",
          "data": {
            "text/html": [
              "<div>\n",
              "<style scoped>\n",
              "    .dataframe tbody tr th:only-of-type {\n",
              "        vertical-align: middle;\n",
              "    }\n",
              "\n",
              "    .dataframe tbody tr th {\n",
              "        vertical-align: top;\n",
              "    }\n",
              "\n",
              "    .dataframe thead th {\n",
              "        text-align: right;\n",
              "    }\n",
              "</style>\n",
              "<table border=\"1\" class=\"dataframe\">\n",
              "  <thead>\n",
              "    <tr style=\"text-align: right;\">\n",
              "      <th></th>\n",
              "      <th>Tweets</th>\n",
              "    </tr>\n",
              "  </thead>\n",
              "  <tbody>\n",
              "    <tr>\n",
              "      <th>0</th>\n",
              "      <td>RCB VS KXIP.\\n\\nhttps://t.co/Z7z2wQweII\\n#ipl ...</td>\n",
              "    </tr>\n",
              "    <tr>\n",
              "      <th>1</th>\n",
              "      <td>@Amazing20033974 #RCB gotta #PlayItBold \\n\\nTh...</td>\n",
              "    </tr>\n",
              "    <tr>\n",
              "      <th>2</th>\n",
              "      <td>#ViratKohli ahead of #Dhoni as captain !!!\\nht...</td>\n",
              "    </tr>\n",
              "    <tr>\n",
              "      <th>3</th>\n",
              "      <td>Why do we have to resort to players like #Rayu...</td>\n",
              "    </tr>\n",
              "    <tr>\n",
              "      <th>4</th>\n",
              "      <td>RCB need to win 6 out of 7 games!! Can they qu...</td>\n",
              "    </tr>\n",
              "    <tr>\n",
              "      <th>5</th>\n",
              "      <td>RCB टीम में कूल्टर नाइल की जगह इस गेंदबाज को क...</td>\n",
              "    </tr>\n",
              "    <tr>\n",
              "      <th>6</th>\n",
              "      <td>IPL Streaming is On!\\n.\\nSupport your favorite...</td>\n",
              "    </tr>\n",
              "    <tr>\n",
              "      <th>7</th>\n",
              "      <td>#ronaldo #ronaldo9 #ronaldocr7 #ronaldonazario...</td>\n",
              "    </tr>\n",
              "    <tr>\n",
              "      <th>8</th>\n",
              "      <td>@gpappliances @ChennaiIPL  🏆🥇WILL WIN IPL 2019...</td>\n",
              "    </tr>\n",
              "    <tr>\n",
              "      <th>9</th>\n",
              "      <td>It is make or break for the Royals today! And ...</td>\n",
              "    </tr>\n",
              "  </tbody>\n",
              "</table>\n",
              "</div>"
            ],
            "text/plain": [
              "                                              Tweets\n",
              "0  RCB VS KXIP.\\n\\nhttps://t.co/Z7z2wQweII\\n#ipl ...\n",
              "1  @Amazing20033974 #RCB gotta #PlayItBold \\n\\nTh...\n",
              "2  #ViratKohli ahead of #Dhoni as captain !!!\\nht...\n",
              "3  Why do we have to resort to players like #Rayu...\n",
              "4  RCB need to win 6 out of 7 games!! Can they qu...\n",
              "5  RCB टीम में कूल्टर नाइल की जगह इस गेंदबाज को क...\n",
              "6  IPL Streaming is On!\\n.\\nSupport your favorite...\n",
              "7  #ronaldo #ronaldo9 #ronaldocr7 #ronaldonazario...\n",
              "8  @gpappliances @ChennaiIPL  🏆🥇WILL WIN IPL 2019...\n",
              "9  It is make or break for the Royals today! And ..."
            ]
          },
          "metadata": {
            "tags": []
          }
        },
        {
          "output_type": "stream",
          "text": [
            "2019-04-13 12:20:05\n"
          ],
          "name": "stdout"
        }
      ]
    },
    {
      "metadata": {
        "id": "X6pS2dYk_dq2",
        "colab_type": "code",
        "outputId": "51cc04c7-e67d-4bd9-ae28-f470f5f86293",
        "colab": {
          "base_uri": "https://localhost:8080/",
          "height": 471
        }
      },
      "cell_type": "code",
      "source": [
        "import nltk\n",
        "import matplotlib.pyplot as plt\n",
        "import seaborn as sns\n",
        "import warnings\n",
        "\n",
        "\n",
        "%matplotlib inline\n",
        "sns.set_style(\"whitegrid\")\n",
        "\n",
        "nltk.download('vader_lexicon')\n",
        "warnings.filterwarnings(\"ignore\")\n",
        "\n",
        "sid = SentimentIntensityAnalyzer()\n",
        "\n",
        "op = []\n",
        "pos = []\n",
        "neg = []\n",
        "neu = []\n",
        "compound = []\n",
        "\n",
        "for index,row in data.iterrows():\n",
        "  ss = sid.polarity_scores(row['Tweets'])\n",
        "  pos.append(ss['pos'])\n",
        "  neg.append(ss['neg'])\n",
        "  neu.append(ss['neu'])\n",
        "  compound.append(ss['compound'])\n",
        "  op.append(ss)\n",
        "  \n",
        "se = pd.Series(op)\n",
        "sp = pd.Series(pos)\n",
        "sneu = pd.Series(neu)\n",
        "sneg = pd.Series(neg)\n",
        "scmp = pd.Series(compound)\n",
        "data['polarity']=se.values\n",
        "data['positive']=sp.values\n",
        "data['neutral']=sneu.values\n",
        "data['negative']=sneg.values\n",
        "data['compound']=scmp.values\n",
        "\n",
        "\n",
        "print(search_words, 'Pos', sum(pos), 'neutral', sum(neu), 'neg' , sum(neg), 'compound' , sum(compound));\n",
        "\n",
        "\n",
        "data_partial = data[['negative','neutral','positive','compound']]\n",
        "data['sentiment'] = data_partial.idxmax(axis=1)\n",
        "\n",
        "plt.figure(figsize=(8,6))\n",
        "sns.countplot(data.sentiment, orient=\"h\", palette='coolwarm', saturation=0.75)\n",
        "plt.title('Sentiment of ' + str(100) + ' Tweets about ' + search_words)\n",
        "\n",
        "\n",
        "# display(data.head(1000))\n",
        "\n"
      ],
      "execution_count": 15,
      "outputs": [
        {
          "output_type": "stream",
          "text": [
            "[nltk_data] Downloading package vader_lexicon to /root/nltk_data...\n",
            "[nltk_data]   Package vader_lexicon is already up-to-date!\n",
            "#Kohli Pos 9.1 neutral 69.20099999999998 neg 2.6979999999999995 compound 16.353900000000003\n"
          ],
          "name": "stdout"
        },
        {
          "output_type": "execute_result",
          "data": {
            "text/plain": [
              "Text(0.5, 1.0, 'Sentiment of 100 Tweets about #Kohli')"
            ]
          },
          "metadata": {
            "tags": []
          },
          "execution_count": 15
        },
        {
          "output_type": "display_data",
          "data": {
            "image/png": "[encoded data removed]",
            "text/plain": [
              "<Figure size 576x432 with 1 Axes>"
            ]
          },
          "metadata": {
            "tags": []
          }
        }
      ]
    },
    {
      "metadata": {
        "id": "IT4HHIMTocZI",
        "colab_type": "code",
        "colab": {}
      },
      "cell_type": "code",
      "source": [
        ""
      ],
      "execution_count": 0,
      "outputs": []
    },
    {
      "metadata": {
        "id": "EImj-vP9zYXE",
        "colab_type": "code",
        "outputId": "e4a073e6-ea61-429a-c1a6-61747d1052cd",
        "colab": {
          "base_uri": "https://localhost:8080/",
          "height": 74
        }
      },
      "cell_type": "code",
      "source": [
        "# api.update_status('Yeah!...check out this')"
      ],
      "execution_count": 0,
      "outputs": [
        {
          "output_type": "execute_result",
          "data": {
            "text/plain": [
              "Status(_api=<tweepy.api.API object at 0x7fa9ce7cbd30>, _json={'created_at': 'Sat Apr 13 03:50:39 +0000 2019', 'id': 1116911549619138560, 'id_str': '1116911549619138560', 'text': 'Yeah!...I am sening tweet from python', 'truncated': False, 'entities': {'hashtags': [], 'symbols': [], 'user_mentions': [], 'urls': []}, 'source': '<a href=\"https://www.lolzor.com\" rel=\"nofollow\">sentiment_funanalyze</a>', 'in_reply_to_status_id': None, 'in_reply_to_status_id_str': None, 'in_reply_to_user_id': None, 'in_reply_to_user_id_str': None, 'in_reply_to_screen_name': None, 'user': {'id': 2270562236, 'id_str': '2270562236', 'name': 'riddhi patel', 'screen_name': 'riddhi_patel20', 'location': 'Hyderabad, India', 'description': '@iiit_hyderabad', 'url': None, 'entities': {'description': {'urls': []}}, 'protected': False, 'followers_count': 13, 'friends_count': 376, 'listed_count': 0, 'created_at': 'Tue Dec 31 16:24:35 +0000 2013', 'favourites_count': 14, 'utc_offset': None, 'time_zone': None, 'geo_enabled': False, 'verified': False, 'statuses_count': 1, 'lang': 'en', 'contributors_enabled': False, 'is_translator': False, 'is_translation_enabled': False, 'profile_background_color': 'C0DEED', 'profile_background_image_url': 'http://abs.twimg.com/images/themes/theme1/bg.png', 'profile_background_image_url_https': 'https://abs.twimg.com/images/themes/theme1/bg.png', 'profile_background_tile': False, 'profile_image_url': 'http://pbs.twimg.com/profile_images/832479766708056067/BLiC_-Ub_normal.jpg', 'profile_image_url_https': 'https://pbs.twimg.com/profile_images/832479766708056067/BLiC_-Ub_normal.jpg', 'profile_link_color': '1DA1F2', 'profile_sidebar_border_color': 'C0DEED', 'profile_sidebar_fill_color': 'DDEEF6', 'profile_text_color': '333333', 'profile_use_background_image': True, 'has_extended_profile': False, 'default_profile': True, 'default_profile_image': False, 'following': False, 'follow_request_sent': False, 'notifications': False, 'translator_type': 'none'}, 'geo': None, 'coordinates': None, 'place': None, 'contributors': None, 'is_quote_status': False, 'retweet_count': 0, 'favorite_count': 0, 'favorited': False, 'retweeted': False, 'lang': 'en'}, created_at=datetime.datetime(2019, 4, 13, 3, 50, 39), id=1116911549619138560, id_str='1116911549619138560', text='Yeah!...I am sening tweet from python', truncated=False, entities={'hashtags': [], 'symbols': [], 'user_mentions': [], 'urls': []}, source='sentiment_funanalyze', source_url='https://www.lolzor.com', in_reply_to_status_id=None, in_reply_to_status_id_str=None, in_reply_to_user_id=None, in_reply_to_user_id_str=None, in_reply_to_screen_name=None, author=User(_api=<tweepy.api.API object at 0x7fa9ce7cbd30>, _json={'id': 2270562236, 'id_str': '2270562236', 'name': 'riddhi patel', 'screen_name': 'riddhi_patel20', 'location': 'Hyderabad, India', 'description': '@iiit_hyderabad', 'url': None, 'entities': {'description': {'urls': []}}, 'protected': False, 'followers_count': 13, 'friends_count': 376, 'listed_count': 0, 'created_at': 'Tue Dec 31 16:24:35 +0000 2013', 'favourites_count': 14, 'utc_offset': None, 'time_zone': None, 'geo_enabled': False, 'verified': False, 'statuses_count': 1, 'lang': 'en', 'contributors_enabled': False, 'is_translator': False, 'is_translation_enabled': False, 'profile_background_color': 'C0DEED', 'profile_background_image_url': 'http://abs.twimg.com/images/themes/theme1/bg.png', 'profile_background_image_url_https': 'https://abs.twimg.com/images/themes/theme1/bg.png', 'profile_background_tile': False, 'profile_image_url': 'http://pbs.twimg.com/profile_images/832479766708056067/BLiC_-Ub_normal.jpg', 'profile_image_url_https': 'https://pbs.twimg.com/profile_images/832479766708056067/BLiC_-Ub_normal.jpg', 'profile_link_color': '1DA1F2', 'profile_sidebar_border_color': 'C0DEED', 'profile_sidebar_fill_color': 'DDEEF6', 'profile_text_color': '333333', 'profile_use_background_image': True, 'has_extended_profile': False, 'default_profile': True, 'default_profile_image': False, 'following': False, 'follow_request_sent': False, 'notifications': False, 'translator_type': 'none'}, id=2270562236, id_str='2270562236', name='riddhi patel', screen_name='riddhi_patel20', location='Hyderabad, India', description='@iiit_hyderabad', url=None, entities={'description': {'urls': []}}, protected=False, followers_count=13, friends_count=376, listed_count=0, created_at=datetime.datetime(2013, 12, 31, 16, 24, 35), favourites_count=14, utc_offset=None, time_zone=None, geo_enabled=False, verified=False, statuses_count=1, lang='en', contributors_enabled=False, is_translator=False, is_translation_enabled=False, profile_background_color='C0DEED', profile_background_image_url='http://abs.twimg.com/images/themes/theme1/bg.png', profile_background_image_url_https='https://abs.twimg.com/images/themes/theme1/bg.png', profile_background_tile=False, profile_image_url='http://pbs.twimg.com/profile_images/832479766708056067/BLiC_-Ub_normal.jpg', profile_image_url_https='https://pbs.twimg.com/profile_images/832479766708056067/BLiC_-Ub_normal.jpg', profile_link_color='1DA1F2', profile_sidebar_border_color='C0DEED', profile_sidebar_fill_color='DDEEF6', profile_text_color='333333', profile_use_background_image=True, has_extended_profile=False, default_profile=True, default_profile_image=False, following=False, follow_request_sent=False, notifications=False, translator_type='none'), user=User(_api=<tweepy.api.API object at 0x7fa9ce7cbd30>, _json={'id': 2270562236, 'id_str': '2270562236', 'name': 'riddhi patel', 'screen_name': 'riddhi_patel20', 'location': 'Hyderabad, India', 'description': '@iiit_hyderabad', 'url': None, 'entities': {'description': {'urls': []}}, 'protected': False, 'followers_count': 13, 'friends_count': 376, 'listed_count': 0, 'created_at': 'Tue Dec 31 16:24:35 +0000 2013', 'favourites_count': 14, 'utc_offset': None, 'time_zone': None, 'geo_enabled': False, 'verified': False, 'statuses_count': 1, 'lang': 'en', 'contributors_enabled': False, 'is_translator': False, 'is_translation_enabled': False, 'profile_background_color': 'C0DEED', 'profile_background_image_url': 'http://abs.twimg.com/images/themes/theme1/bg.png', 'profile_background_image_url_https': 'https://abs.twimg.com/images/themes/theme1/bg.png', 'profile_background_tile': False, 'profile_image_url': 'http://pbs.twimg.com/profile_images/832479766708056067/BLiC_-Ub_normal.jpg', 'profile_image_url_https': 'https://pbs.twimg.com/profile_images/832479766708056067/BLiC_-Ub_normal.jpg', 'profile_link_color': '1DA1F2', 'profile_sidebar_border_color': 'C0DEED', 'profile_sidebar_fill_color': 'DDEEF6', 'profile_text_color': '333333', 'profile_use_background_image': True, 'has_extended_profile': False, 'default_profile': True, 'default_profile_image': False, 'following': False, 'follow_request_sent': False, 'notifications': False, 'translator_type': 'none'}, id=2270562236, id_str='2270562236', name='riddhi patel', screen_name='riddhi_patel20', location='Hyderabad, India', description='@iiit_hyderabad', url=None, entities={'description': {'urls': []}}, protected=False, followers_count=13, friends_count=376, listed_count=0, created_at=datetime.datetime(2013, 12, 31, 16, 24, 35), favourites_count=14, utc_offset=None, time_zone=None, geo_enabled=False, verified=False, statuses_count=1, lang='en', contributors_enabled=False, is_translator=False, is_translation_enabled=False, profile_background_color='C0DEED', profile_background_image_url='http://abs.twimg.com/images/themes/theme1/bg.png', profile_background_image_url_https='https://abs.twimg.com/images/themes/theme1/bg.png', profile_background_tile=False, profile_image_url='http://pbs.twimg.com/profile_images/832479766708056067/BLiC_-Ub_normal.jpg', profile_image_url_https='https://pbs.twimg.com/profile_images/832479766708056067/BLiC_-Ub_normal.jpg', profile_link_color='1DA1F2', profile_sidebar_border_color='C0DEED', profile_sidebar_fill_color='DDEEF6', profile_text_color='333333', profile_use_background_image=True, has_extended_profile=False, default_profile=True, default_profile_image=False, following=False, follow_request_sent=False, notifications=False, translator_type='none'), geo=None, coordinates=None, place=None, contributors=None, is_quote_status=False, retweet_count=0, favorite_count=0, favorited=False, retweeted=False, lang='en')"
            ]
          },
          "metadata": {
            "tags": []
          },
          "execution_count": 7
        }
      ]
    }
  ]
}